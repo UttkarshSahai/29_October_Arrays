{
 "cells": [
  {
   "cell_type": "raw",
   "id": "4c17313d",
   "metadata": {},
   "source": [
    "1. Given an array, check if it contains any duplicates or not.\n",
    "arr = [1, 2, 4, 2, 5, 9]\n",
    "Output = True"
   ]
  },
  {
   "cell_type": "code",
   "execution_count": 1,
   "id": "5ae1b15a",
   "metadata": {},
   "outputs": [
    {
     "name": "stdout",
     "output_type": "stream",
     "text": [
      "False\n"
     ]
    }
   ],
   "source": [
    "def duplicates(arr):\n",
    "    n=len(arr)\n",
    "    \n",
    "    for i in range(n):\n",
    "        for j in range(i+1,n):\n",
    "            if arr[i] == arr[j]:\n",
    "                return True\n",
    "            \n",
    "            else:\n",
    "                return False\n",
    "            \n",
    "arr=[1,2,4,2,5,9]\n",
    "result=duplicates(arr)\n",
    "print(result)"
   ]
  },
  {
   "cell_type": "raw",
   "id": "c23f3438",
   "metadata": {},
   "source": [
    "2. Given an array and an integer k, rotate the array to the right by k steps.\n",
    "arr = [1, 2, 3, 4, 5, 6, 7] k = 3\n",
    "Output = [5, 6, 7, 1, 2, 3, 4]"
   ]
  },
  {
   "cell_type": "code",
   "execution_count": 2,
   "id": "6926d539",
   "metadata": {},
   "outputs": [
    {
     "name": "stdout",
     "output_type": "stream",
     "text": [
      "[5, 6, 7, 1, 2, 3, 4]\n"
     ]
    }
   ],
   "source": [
    "def rotate_array(arr, k):\n",
    "    n = len(arr)\n",
    "    k = k % n\n",
    "    reverse(arr, 0, n-1)\n",
    "    reverse(arr, 0, k-1)\n",
    "    reverse(arr, k, n-1)\n",
    "\n",
    "def reverse(arr, start, end):\n",
    "    while start < end:\n",
    "        arr[start], arr[end] = arr[end], arr[start]\n",
    "        start += 1\n",
    "        end -= 1\n",
    "\n",
    "arr = [1, 2, 3, 4, 5, 6, 7]\n",
    "k = 3\n",
    "rotate_array(arr, k)\n",
    "output = arr\n",
    "print(output) "
   ]
  },
  {
   "cell_type": "raw",
   "id": "e154215e",
   "metadata": {},
   "source": [
    "3. Reverse the given array in-place, means without using any extra data structure.\n",
    "arr = [2, 4, 5, 7, 9, 12]\n",
    "Output = [12, 9, 7, 5, 4, 2]"
   ]
  },
  {
   "cell_type": "code",
   "execution_count": 3,
   "id": "32c9e58e",
   "metadata": {},
   "outputs": [
    {
     "name": "stdout",
     "output_type": "stream",
     "text": [
      "[12, 9, 7, 5, 4, 2]\n"
     ]
    }
   ],
   "source": [
    "def reverse_the_order(arr):\n",
    "    left=0\n",
    "    right=len(arr)-1\n",
    "    \n",
    "    while left<right:\n",
    "        arr[left],arr[right]=arr[right],arr[left]\n",
    "        \n",
    "        left=left+1\n",
    "        right=right-1\n",
    "        \n",
    "arr=[2, 4, 5, 7, 9, 12]\n",
    "reverse_the_order(arr)\n",
    "print(arr)"
   ]
  },
  {
   "cell_type": "raw",
   "id": "ebde502e",
   "metadata": {},
   "source": [
    "4. Given an array of integers, find the maximum element in an array\n",
    "arr = [10, 5, 20, 8, 15]\n",
    "Output = 20"
   ]
  },
  {
   "cell_type": "code",
   "execution_count": 4,
   "id": "16770465",
   "metadata": {},
   "outputs": [
    {
     "name": "stdout",
     "output_type": "stream",
     "text": [
      "20\n"
     ]
    }
   ],
   "source": [
    "def max_element(arr):\n",
    "    n=len(arr)\n",
    "    max_ele=arr[0]\n",
    "    \n",
    "    for i in range(n):\n",
    "        if arr[i]>max_ele:\n",
    "            max_ele=arr[i]\n",
    "    return max_ele\n",
    "\n",
    "arr=[10,5,20,8,15]\n",
    "result=max_element(arr)\n",
    "print(result)"
   ]
  },
  {
   "cell_type": "raw",
   "id": "cc14c4bb",
   "metadata": {},
   "source": [
    "5. Given a sorted array, remove the duplicate element without using any extra data structure.\n",
    "arr = [1, 1, 2, 2, 2, 3, 3, 4, 4, 4, 5, 5]\n",
    "Output = [1, 2, 3, 4, 5]"
   ]
  },
  {
   "cell_type": "code",
   "execution_count": 5,
   "id": "37fbcb9d",
   "metadata": {},
   "outputs": [
    {
     "name": "stdout",
     "output_type": "stream",
     "text": [
      "[1, 2, 3, 4, 5]\n"
     ]
    }
   ],
   "source": [
    "def duplicate_ele(arr):\n",
    "\n",
    "    unique_value=0\n",
    "\n",
    "    for i in range(1,len(arr)):\n",
    "        if arr[i]!=arr[unique_value]:\n",
    "            unique_value=unique_value+1\n",
    "            arr[unique_value]=arr[i]\n",
    "    return arr[:unique_value+1]\n",
    "    \n",
    "arr=[1, 1, 2, 2, 2, 3, 3, 4, 4, 4, 5, 5] \n",
    "result=duplicate_ele(arr)\n",
    "print(result)"
   ]
  },
  {
   "cell_type": "code",
   "execution_count": null,
   "id": "268bfc6b",
   "metadata": {},
   "outputs": [],
   "source": []
  }
 ],
 "metadata": {
  "kernelspec": {
   "display_name": "Python 3 (ipykernel)",
   "language": "python",
   "name": "python3"
  },
  "language_info": {
   "codemirror_mode": {
    "name": "ipython",
    "version": 3
   },
   "file_extension": ".py",
   "mimetype": "text/x-python",
   "name": "python",
   "nbconvert_exporter": "python",
   "pygments_lexer": "ipython3",
   "version": "3.9.16"
  }
 },
 "nbformat": 4,
 "nbformat_minor": 5
}
